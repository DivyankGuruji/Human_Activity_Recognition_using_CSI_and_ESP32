{
 "cells": [
  {
   "cell_type": "markdown",
   "id": "95407326",
   "metadata": {},
   "source": [
    "<p style=\"text-align:center; font-size:50px; font-weight:bold; color: greenyellow; border: 10px solid red; border-radius: 20px; background-color: black; padding: 30px 0px;\">Hampel + Savitzky Golay Filter</p>"
   ]
  },
  {
   "cell_type": "markdown",
   "id": "82eec6d4",
   "metadata": {},
   "source": [
    "<p style=\"text-align:center; font-size:50px; font-weight:bold; color: blue; border-radius: 20px; padding: 30px 0px;\">Use Only If Data Is Too Much Noisy</p>"
   ]
  },
  {
   "cell_type": "code",
   "execution_count": null,
   "id": "bf17be87",
   "metadata": {
    "vscode": {
     "languageId": "plaintext"
    }
   },
   "outputs": [],
   "source": [
    "import pandas as pd\n",
    "import numpy as np\n",
    "from scipy.signal import savgol_filter"
   ]
  },
  {
   "cell_type": "code",
   "execution_count": null,
   "id": "8f3fd30e",
   "metadata": {
    "vscode": {
     "languageId": "plaintext"
    }
   },
   "outputs": [],
   "source": [
    "def hampel_filter(input_series, window_size=15, n_sigmas=3):\n",
    "    new_series = input_series.copy()\n",
    "    L = 1.4826 \n",
    "    \n",
    "    for i in range(window_size, len(input_series) - window_size):\n",
    "        window_data = input_series[i - window_size : i + window_size]\n",
    "        median = np.median(window_data)\n",
    "        mad = L * np.median(np.abs(window_data - median))\n",
    "        if mad == 0:\n",
    "            continue\n",
    "        threshold = n_sigmas * mad\n",
    "        if np.abs(input_series[i] - median) > threshold:\n",
    "            new_series[i] = median\n",
    "    return new_series"
   ]
  },
  {
   "cell_type": "code",
   "execution_count": null,
   "id": "a87dcbf4",
   "metadata": {
    "vscode": {
     "languageId": "plaintext"
    }
   },
   "outputs": [],
   "source": [
    "df = pd.read_csv(\"csi_data_amp_phase.csv\")\n",
    "\n",
    "csi_cols = [col for col in df.columns if \"_amp\" in col or \"_phase\" in col]\n",
    "\n",
    "for col in csi_cols:\n",
    "    df[col] = hampel_filter(df[col].values, window_size=15, n_sigmas=3)\n",
    "    df[col] = savgol_filter(df[col].values, window_length=5, polyorder=3)\n",
    "\n",
    "df.to_csv(\"csi_dataset_finals.csv\", index=False)\n",
    "print(\"Final dataset with Hampel + Savitzky Golay filter saved as 'csi_dataset_finals.csv'\")\n"
   ]
  }
 ],
 "metadata": {
  "language_info": {
   "name": "python"
  }
 },
 "nbformat": 4,
 "nbformat_minor": 5
}
