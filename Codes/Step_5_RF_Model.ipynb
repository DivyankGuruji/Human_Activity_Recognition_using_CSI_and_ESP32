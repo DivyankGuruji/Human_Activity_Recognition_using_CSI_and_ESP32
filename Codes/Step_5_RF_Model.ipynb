{
 "cells": [
  {
   "cell_type": "markdown",
   "id": "a21686b3",
   "metadata": {},
   "source": [
    "<p style=\"text-align:center; font-size:70px; font-weight:bold; color: greenyellow; border: 10px solid red; border-radius: 20px; background-color: black; padding: 30px 0px;\">Random Forest Model</p>"
   ]
  },
  {
   "cell_type": "markdown",
   "id": "378dc79f",
   "metadata": {},
   "source": [
    "## Step 1 : Importing Libraries"
   ]
  },
  {
   "cell_type": "code",
   "execution_count": null,
   "id": "683bd691",
   "metadata": {
    "vscode": {
     "languageId": "plaintext"
    }
   },
   "outputs": [],
   "source": [
    "import pandas as pd\n",
    "import numpy as np\n",
    "import matplotlib.pyplot as plt\n",
    "from sklearn.model_selection import train_test_split, learning_curve, cross_val_score\n",
    "from sklearn.ensemble import RandomForestClassifier\n",
    "from sklearn.metrics import confusion_matrix, ConfusionMatrixDisplay\n",
    "from sklearn.preprocessing import StandardScaler, LabelEncoder\n",
    "from sklearn.metrics import accuracy_score, log_loss"
   ]
  },
  {
   "cell_type": "markdown",
   "id": "02fd0a5b",
   "metadata": {},
   "source": [
    "## Step 2 : Loading the dataset"
   ]
  },
  {
   "cell_type": "code",
   "execution_count": null,
   "id": "91e815d9",
   "metadata": {
    "vscode": {
     "languageId": "plaintext"
    }
   },
   "outputs": [],
   "source": [
    "df = pd.read_csv(\"csi_data_amp_phase.csv\")\n",
    "print(df[\"Activity\"].value_counts())"
   ]
  },
  {
   "cell_type": "markdown",
   "id": "57a8d625",
   "metadata": {},
   "source": [
    "## Step 3 : Assigning data Indenpendent and Dependent variables"
   ]
  },
  {
   "cell_type": "code",
   "execution_count": null,
   "id": "fab4da97",
   "metadata": {
    "vscode": {
     "languageId": "plaintext"
    }
   },
   "outputs": [],
   "source": [
    "X = df.drop(columns=['Activity','Timestamp']).values\n",
    "y = df[\"Activity\"]"
   ]
  },
  {
   "cell_type": "markdown",
   "id": "9d3000c9",
   "metadata": {},
   "source": [
    "## Step 4 : Applying Standard Scaler"
   ]
  },
  {
   "cell_type": "code",
   "execution_count": null,
   "id": "d24f71c0",
   "metadata": {
    "vscode": {
     "languageId": "plaintext"
    }
   },
   "outputs": [],
   "source": [
    "scaler = StandardScaler()\n",
    "X_scaled = scaler.fit_transform(X)"
   ]
  },
  {
   "cell_type": "markdown",
   "id": "6504f38f",
   "metadata": {},
   "source": [
    "## Step 5 : Applying Label Encoder "
   ]
  },
  {
   "cell_type": "code",
   "execution_count": null,
   "id": "adb90432",
   "metadata": {
    "vscode": {
     "languageId": "plaintext"
    }
   },
   "outputs": [],
   "source": [
    "le = LabelEncoder()\n",
    "y_encoded = le.fit_transform(y)"
   ]
  },
  {
   "cell_type": "markdown",
   "id": "04f5380b",
   "metadata": {},
   "source": [
    "## Step 6 : Class Mapping "
   ]
  },
  {
   "cell_type": "code",
   "execution_count": null,
   "id": "a0ba4601",
   "metadata": {
    "vscode": {
     "languageId": "plaintext"
    }
   },
   "outputs": [],
   "source": [
    "print(\"Class Mapping:\")\n",
    "for i, class_label in enumerate(le.classes_):\n",
    "    print(f\"{i} -> {class_label}\")"
   ]
  },
  {
   "cell_type": "markdown",
   "id": "eecc577c",
   "metadata": {},
   "source": [
    "## Step 7 : Train Test Split"
   ]
  },
  {
   "cell_type": "code",
   "execution_count": null,
   "id": "d26deaa4",
   "metadata": {
    "vscode": {
     "languageId": "plaintext"
    }
   },
   "outputs": [],
   "source": [
    "X_train, X_test, y_train, y_test = train_test_split(X, y, test_size=0.2, random_state=42)"
   ]
  },
  {
   "cell_type": "markdown",
   "id": "19d125fd",
   "metadata": {},
   "source": [
    "## Step 8 : Training the Random Forest Model"
   ]
  },
  {
   "cell_type": "code",
   "execution_count": null,
   "id": "8f6a956b",
   "metadata": {
    "vscode": {
     "languageId": "plaintext"
    }
   },
   "outputs": [],
   "source": [
    "rf_model = RandomForestClassifier(\n",
    "    n_estimators=200,\n",
    "    criterion='gini',\n",
    "    max_depth=None,\n",
    "    min_samples_split=11,\n",
    "    class_weight='balanced_subsample',\n",
    "    min_samples_leaf=11,\n",
    "    random_state=42,\n",
    "    max_features='log2',\n",
    ")\n",
    "\n",
    "rf_model.fit(X_train, y_train)"
   ]
  },
  {
   "cell_type": "markdown",
   "id": "65dffca7",
   "metadata": {},
   "source": [
    "## Step 9 : Train Accuracy"
   ]
  },
  {
   "cell_type": "code",
   "execution_count": null,
   "id": "c7ae8b22",
   "metadata": {
    "vscode": {
     "languageId": "plaintext"
    }
   },
   "outputs": [],
   "source": [
    "y_train_pred = rf_model.predict(X_train)\n",
    "train_acc = accuracy_score(y_train, y_train_pred)\n",
    "print(f\"Training Accuracy: {train_acc:.4f}\")"
   ]
  },
  {
   "cell_type": "markdown",
   "id": "bc6545ed",
   "metadata": {},
   "source": [
    "## Step 10 : Training Loss"
   ]
  },
  {
   "cell_type": "code",
   "execution_count": null,
   "id": "fcec2f6b",
   "metadata": {
    "vscode": {
     "languageId": "plaintext"
    }
   },
   "outputs": [],
   "source": [
    "train_loss = log_loss(y_train, rf_model.predict_proba(X_train))\n",
    "print(f\"Training Loss: {train_loss:.4f}\")"
   ]
  },
  {
   "cell_type": "markdown",
   "id": "b80d11a8",
   "metadata": {},
   "source": [
    "## Step 11 : Testing Accuracy"
   ]
  },
  {
   "cell_type": "code",
   "execution_count": null,
   "id": "9571a4b0",
   "metadata": {
    "vscode": {
     "languageId": "plaintext"
    }
   },
   "outputs": [],
   "source": [
    "y_test_pred = rf_model.predict(X_test)\n",
    "test_acc = accuracy_score(y_test, y_test_pred)\n",
    "print(f\"Testing Accuracy: {test_acc:.4f}\")"
   ]
  },
  {
   "cell_type": "markdown",
   "id": "b1f14258",
   "metadata": {},
   "source": [
    "## Step 12 : Testing Loss"
   ]
  },
  {
   "cell_type": "code",
   "execution_count": null,
   "id": "559c37b8",
   "metadata": {
    "vscode": {
     "languageId": "plaintext"
    }
   },
   "outputs": [],
   "source": [
    "test_loss = log_loss(y_test, rf_model.predict_proba(X_test))\n",
    "print(f\"Testing Loss: {test_loss:.4f}\")"
   ]
  },
  {
   "cell_type": "markdown",
   "id": "476ac511",
   "metadata": {},
   "source": [
    "## Step 13 : Confusion Matrix"
   ]
  },
  {
   "cell_type": "code",
   "execution_count": null,
   "id": "ac51c902",
   "metadata": {
    "vscode": {
     "languageId": "plaintext"
    }
   },
   "outputs": [],
   "source": [
    "y_pred = rf_model.predict(X_test)\n",
    "cm = confusion_matrix(y_test, y_pred)\n",
    "disp = ConfusionMatrixDisplay(confusion_matrix=cm, display_labels=sorted(y.unique()))\n",
    "disp.plot(cmap=plt.cm.Blues)\n",
    "plt.title(\"Confusion Matrix\")\n",
    "plt.show()"
   ]
  },
  {
   "cell_type": "markdown",
   "id": "3cc8db65",
   "metadata": {},
   "source": [
    "# Step 14 : Learning Curves"
   ]
  },
  {
   "cell_type": "markdown",
   "id": "4fef73b4",
   "metadata": {},
   "source": [
    "### Step 14 (a) : Accuracy"
   ]
  },
  {
   "cell_type": "code",
   "execution_count": null,
   "id": "46dd0817",
   "metadata": {
    "vscode": {
     "languageId": "plaintext"
    }
   },
   "outputs": [],
   "source": [
    "train_sizes, train_scores, test_scores = learning_curve(\n",
    "    rf_model, X, y,\n",
    "    cv=25,\n",
    "    scoring='accuracy',\n",
    "    n_jobs=-1,\n",
    "    train_sizes=np.linspace(0.1, 1.0, 20),\n",
    "    shuffle=True,\n",
    "    random_state=42\n",
    ")\n",
    "\n",
    "train_scores_mean = np.mean(train_scores, axis=1)\n",
    "test_scores_mean = np.mean(test_scores, axis=1)\n",
    "\n",
    "plt.figure(figsize=(6, 4))\n",
    "plt.plot(train_sizes, train_scores_mean, 'o-', color=\"r\", label=\"Training accuracy\")\n",
    "plt.plot(train_sizes, test_scores_mean, 'o-', color=\"g\", label=\"Validation accuracy\")\n",
    "plt.title(\"Learning Curve (Random Forest)\")\n",
    "plt.xlabel(\"Training examples\")\n",
    "plt.ylabel(\"Accuracy\")\n",
    "plt.legend(loc=\"best\")\n",
    "plt.grid(True)\n",
    "plt.show()"
   ]
  },
  {
   "cell_type": "markdown",
   "id": "a075092b",
   "metadata": {},
   "source": [
    "### Step 14 (b) : Loss"
   ]
  },
  {
   "cell_type": "code",
   "execution_count": null,
   "id": "dd3feb82",
   "metadata": {
    "vscode": {
     "languageId": "plaintext"
    }
   },
   "outputs": [],
   "source": [
    "train_sizes, train_scores_loss, test_scores_loss = learning_curve(\n",
    "    rf_model, X, y,\n",
    "    cv=25,\n",
    "    scoring='neg_log_loss',\n",
    "    n_jobs=-1,\n",
    "    train_sizes=np.linspace(0.1, 1.0, 20),\n",
    "    shuffle=True,\n",
    "    random_state=42\n",
    ")\n",
    "\n",
    "train_mean_loss = -np.mean(train_scores_loss, axis=1)\n",
    "test_mean_loss = -np.mean(test_scores_loss, axis=1)\n",
    "\n",
    "plt.figure(figsize=(6, 4))\n",
    "plt.plot(train_sizes, train_mean_loss, 'o-', color='red', label='Training Loss')\n",
    "plt.plot(train_sizes, test_mean_loss, 'o-', color='orange', label='Validation Loss')\n",
    "plt.title('Loss Curve (Log Loss)')\n",
    "plt.xlabel('Training Set Size')\n",
    "plt.ylabel('Loss')\n",
    "plt.legend()\n",
    "plt.grid(True)\n",
    "plt.show()"
   ]
  },
  {
   "cell_type": "markdown",
   "id": "d63525b5",
   "metadata": {},
   "source": [
    "## Step 15 : Saving the model"
   ]
  },
  {
   "cell_type": "code",
   "execution_count": null,
   "id": "b24b9a60",
   "metadata": {
    "vscode": {
     "languageId": "plaintext"
    }
   },
   "outputs": [],
   "source": [
    "import joblib \n",
    "joblib.dump(scaler, \"scaler.pkl\")\n",
    "joblib.dump(rf_model, \"model.pkl\")"
   ]
  }
 ],
 "metadata": {
  "language_info": {
   "name": "python"
  }
 },
 "nbformat": 4,
 "nbformat_minor": 5
}
